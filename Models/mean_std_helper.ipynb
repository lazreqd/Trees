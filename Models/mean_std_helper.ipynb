{
 "cells": [
  {
   "cell_type": "code",
   "execution_count": 4,
   "id": "eeeb22a3",
   "metadata": {},
   "outputs": [],
   "source": [
    "# A function that computes the mean and std of an image dataset. \n",
    "# Needed for the normalization step.\n",
    "\n",
    "def mean_std(loader):\n",
    "  images, labels = next(iter(loader))\n",
    "  # shape of images = [b,c,w,h]\n",
    "  mean, std = images.mean([0,2,3]), images.std([0,2,3])\n",
    "  return mean, std"
   ]
  },
  {
   "cell_type": "code",
   "execution_count": 5,
   "id": "f75d0487",
   "metadata": {},
   "outputs": [],
   "source": [
    "# mean, std = mean_std(train_dataloader)"
   ]
  },
  {
   "cell_type": "code",
   "execution_count": null,
   "id": "6a7743ab",
   "metadata": {},
   "outputs": [],
   "source": []
  }
 ],
 "metadata": {
  "kernelspec": {
   "display_name": "Python 3 (ipykernel)",
   "language": "python",
   "name": "python3"
  },
  "language_info": {
   "codemirror_mode": {
    "name": "ipython",
    "version": 3
   },
   "file_extension": ".py",
   "mimetype": "text/x-python",
   "name": "python",
   "nbconvert_exporter": "python",
   "pygments_lexer": "ipython3",
   "version": "3.10.9"
  }
 },
 "nbformat": 4,
 "nbformat_minor": 5
}
