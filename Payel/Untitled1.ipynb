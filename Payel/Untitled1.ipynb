{
 "cells": [
  {
   "cell_type": "code",
   "execution_count": 1,
   "id": "6a26d714-8997-4548-a02a-e41ccab350a8",
   "metadata": {},
   "outputs": [],
   "source": [
    "import matplotlib.pyplot as plt \n",
    "import geopandas as gpd\n",
    "import seaborn as sns"
   ]
  },
  {
   "cell_type": "code",
   "execution_count": 2,
   "id": "1de1f6f8-da37-4ce9-a1a5-f24657ba4b0d",
   "metadata": {},
   "outputs": [],
   "source": [
    "trees = gpd.read_file('mapping/final_dataset.csv')"
   ]
  },
  {
   "cell_type": "code",
   "execution_count": 13,
   "id": "d948d120-e64b-48e3-a9cd-d6f338483e64",
   "metadata": {},
   "outputs": [],
   "source": [
    "trees['xmax'] = trees['xmax'].astype('float')\n",
    "trees['xmin'] = trees['xmin'].astype('float')"
   ]
  },
  {
   "cell_type": "code",
   "execution_count": 22,
   "id": "681ede9a-0117-4427-b925-3383daad65fd",
   "metadata": {},
   "outputs": [],
   "source": [
    "diff = trees['xmax'].values - trees['xmin'].values "
   ]
  },
  {
   "cell_type": "code",
   "execution_count": 24,
   "id": "71003829-52f1-4aa0-8831-6546e0ad4093",
   "metadata": {},
   "outputs": [
    {
     "data": {
      "text/plain": [
       "array([False, False, False, ..., False, False, False])"
      ]
     },
     "execution_count": 24,
     "metadata": {},
     "output_type": "execute_result"
    }
   ],
   "source": [
    "inddiff <= 1"
   ]
  },
  {
   "cell_type": "code",
   "execution_count": null,
   "id": "8105c2ce-7e55-44e5-b998-d13235340e3e",
   "metadata": {},
   "outputs": [],
   "source": []
  }
 ],
 "metadata": {
  "kernelspec": {
   "display_name": "Python 3 (ipykernel)",
   "language": "python",
   "name": "python3"
  },
  "language_info": {
   "codemirror_mode": {
    "name": "ipython",
    "version": 3
   },
   "file_extension": ".py",
   "mimetype": "text/x-python",
   "name": "python",
   "nbconvert_exporter": "python",
   "pygments_lexer": "ipython3",
   "version": "3.10.11"
  }
 },
 "nbformat": 4,
 "nbformat_minor": 5
}
